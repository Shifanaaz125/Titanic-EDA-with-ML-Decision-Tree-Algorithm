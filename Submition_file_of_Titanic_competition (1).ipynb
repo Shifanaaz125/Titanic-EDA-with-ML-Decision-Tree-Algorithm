{
 "cells": [
  {
   "cell_type": "markdown",
   "id": "53be4f5e",
   "metadata": {},
   "source": [
    "# Titanic Competion File"
   ]
  },
  {
   "cell_type": "markdown",
   "id": "7fe040a1",
   "metadata": {},
   "source": [
    "### Importing Required Libraries "
   ]
  },
  {
   "cell_type": "code",
   "execution_count": null,
   "id": "68888990",
   "metadata": {},
   "outputs": [],
   "source": [
    "import pandas as pd\n",
    "from sklearn.ensemble import RandomForestClassifier\n",
    "from sklearn.preprocessing import LabelEncoder\n",
    "from sklearn.model_selection import train_test_split\n",
    "from sklearn.metrics import accuracy_score"
   ]
  },
  {
   "cell_type": "markdown",
   "id": "664513bd",
   "metadata": {},
   "source": [
    "###  Load the training data "
   ]
  },
  {
   "cell_type": "code",
   "execution_count": 2,
   "id": "785a5744",
   "metadata": {},
   "outputs": [],
   "source": [
    "train_data = pd.read_csv('train.csv')"
   ]
  },
  {
   "cell_type": "markdown",
   "id": "968c6ad9",
   "metadata": {},
   "source": [
    "### Load the test data"
   ]
  },
  {
   "cell_type": "code",
   "execution_count": 3,
   "id": "1b8d26b6",
   "metadata": {},
   "outputs": [],
   "source": [
    "test_data = pd.read_csv('test.csv')"
   ]
  },
  {
   "cell_type": "markdown",
   "id": "9ec89340",
   "metadata": {},
   "source": [
    "### Combine training and test data for encoding"
   ]
  },
  {
   "cell_type": "code",
   "execution_count": 4,
   "id": "6468c3f2",
   "metadata": {},
   "outputs": [],
   "source": [
    "combined_data = pd.concat([train_data, test_data], ignore_index=True)"
   ]
  },
  {
   "cell_type": "markdown",
   "id": "ef25d752",
   "metadata": {},
   "source": [
    "### Preprocess the combined data"
   ]
  },
  {
   "cell_type": "code",
   "execution_count": 5,
   "id": "4ea23007",
   "metadata": {},
   "outputs": [],
   "source": [
    "combined_data['Age'].fillna(combined_data['Age'].median(), inplace=True)\n",
    "combined_data['Embarked'].fillna(combined_data['Embarked'].mode()[0], inplace=True)\n",
    "combined_data['Fare'].fillna(combined_data['Fare'].median(), inplace=True)  "
   ]
  },
  {
   "cell_type": "markdown",
   "id": "fc75ce1d",
   "metadata": {},
   "source": [
    "##### Add this line to handle missing 'Fare' values"
   ]
  },
  {
   "cell_type": "markdown",
   "id": "cddf69ac",
   "metadata": {},
   "source": [
    "### Encode categorical variables"
   ]
  },
  {
   "cell_type": "code",
   "execution_count": 6,
   "id": "03fb9410",
   "metadata": {},
   "outputs": [],
   "source": [
    "encoder = LabelEncoder()\n",
    "combined_data['Sex'] = encoder.fit_transform(combined_data['Sex'])\n",
    "combined_data['Embarked'] = encoder.fit_transform(combined_data['Embarked'])"
   ]
  },
  {
   "cell_type": "markdown",
   "id": "4fb518fc",
   "metadata": {},
   "source": [
    "### Split the combined data back into training and test sets"
   ]
  },
  {
   "cell_type": "code",
   "execution_count": 7,
   "id": "2a0b5f13",
   "metadata": {},
   "outputs": [],
   "source": [
    "train_data = combined_data[:len(train_data)]\n",
    "test_data = combined_data[len(train_data):]"
   ]
  },
  {
   "cell_type": "markdown",
   "id": "3d289ce5",
   "metadata": {},
   "source": [
    "### Select relevant features"
   ]
  },
  {
   "cell_type": "code",
   "execution_count": 8,
   "id": "8772a534",
   "metadata": {},
   "outputs": [],
   "source": [
    "features = ['Pclass', 'Sex', 'Age', 'SibSp', 'Parch', 'Fare', 'Embarked']\n",
    "X = train_data[features]\n",
    "y = train_data['Survived']"
   ]
  },
  {
   "cell_type": "markdown",
   "id": "c82a0bef",
   "metadata": {},
   "source": [
    "### Split data into train and validation sets"
   ]
  },
  {
   "cell_type": "code",
   "execution_count": 9,
   "id": "ab330dfa",
   "metadata": {},
   "outputs": [],
   "source": [
    "X_train, X_val, y_train, y_val = train_test_split(X, y, test_size=0.2, random_state=42)"
   ]
  },
  {
   "cell_type": "markdown",
   "id": "d2c82099",
   "metadata": {},
   "source": [
    "### Create and train a Random Forest Classifier"
   ]
  },
  {
   "cell_type": "code",
   "execution_count": 10,
   "id": "ab7b9154",
   "metadata": {},
   "outputs": [
    {
     "data": {
      "text/plain": [
       "RandomForestClassifier(random_state=42)"
      ]
     },
     "execution_count": 10,
     "metadata": {},
     "output_type": "execute_result"
    }
   ],
   "source": [
    "model = RandomForestClassifier(random_state=42)\n",
    "model.fit(X_train, y_train)"
   ]
  },
  {
   "cell_type": "markdown",
   "id": "35be927e",
   "metadata": {},
   "source": [
    "### Select relevant features for the test data"
   ]
  },
  {
   "cell_type": "code",
   "execution_count": 11,
   "id": "c7771113",
   "metadata": {},
   "outputs": [],
   "source": [
    "X_test = test_data[features]"
   ]
  },
  {
   "cell_type": "markdown",
   "id": "0856a8d4",
   "metadata": {},
   "source": [
    "### Make predictions on the test data"
   ]
  },
  {
   "cell_type": "code",
   "execution_count": 13,
   "id": "b0b71744",
   "metadata": {},
   "outputs": [],
   "source": [
    "predictions = model.predict(X_test)"
   ]
  },
  {
   "cell_type": "markdown",
   "id": "2a9fc3d4",
   "metadata": {},
   "source": [
    "### Create a submission file"
   ]
  },
  {
   "cell_type": "code",
   "execution_count": 14,
   "id": "bf8e3f6b",
   "metadata": {},
   "outputs": [],
   "source": [
    "submission = pd.DataFrame({'PassengerId': test_data['PassengerId'], 'Survived': predictions})\n",
    "submission.to_csv('titanic_submission.csv', index=False)"
   ]
  },
  {
   "cell_type": "markdown",
   "id": "5210eda8",
   "metadata": {},
   "source": [
    "### Evaluate the model on the validation data (optional)"
   ]
  },
  {
   "cell_type": "code",
   "execution_count": 15,
   "id": "94248629",
   "metadata": {},
   "outputs": [
    {
     "name": "stdout",
     "output_type": "stream",
     "text": [
      "Validation Accuracy: 82.12%\n"
     ]
    }
   ],
   "source": [
    "val_predictions = model.predict(X_val)\n",
    "accuracy = accuracy_score(y_val, val_predictions)\n",
    "print(f'Validation Accuracy: {accuracy * 100:.2f}%')"
   ]
  },
  {
   "cell_type": "code",
   "execution_count": null,
   "id": "b3193c8a",
   "metadata": {},
   "outputs": [],
   "source": []
  }
 ],
 "metadata": {
  "kernelspec": {
   "display_name": "Python 3 (ipykernel)",
   "language": "python",
   "name": "python3"
  },
  "language_info": {
   "codemirror_mode": {
    "name": "ipython",
    "version": 3
   },
   "file_extension": ".py",
   "mimetype": "text/x-python",
   "name": "python",
   "nbconvert_exporter": "python",
   "pygments_lexer": "ipython3",
   "version": "3.9.12"
  }
 },
 "nbformat": 4,
 "nbformat_minor": 5
}
